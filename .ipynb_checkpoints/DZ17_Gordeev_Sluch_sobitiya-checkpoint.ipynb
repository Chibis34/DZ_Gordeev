{
 "cells": [
  {
   "cell_type": "markdown",
   "metadata": {},
   "source": [
    "# Домашнее задание к лекции «Случайные события. Случайные величины»"
   ]
  },
  {
   "cell_type": "markdown",
   "metadata": {},
   "source": [
    "Домашнее задание к лекции «Случайные события. Случайные величины»\n",
    "\n",
    "Текст задания см. на скриншоте http://prntscr.com/uh35yg\n",
    "\n",
    "Смоделировать игру против лотерейного автомата типа “777”. Игрок платит 1 руб., после чего выпадает случайное целое число, равномерно распределенное от 0 до 999. При некоторых значениях числа игрок получает выигрыш.\n",
    "\n",
    "777: 200 руб.\n",
    "999: 100 руб.\n",
    "555: 50 руб.\n",
    "333: 15 руб.\n",
    "111: 10 руб.\n",
    "*77: 5 руб.\n",
    "**7: 3 руб.\n",
    "*00: 2 руб.\n",
    "**0: 1 руб.\n",
    "\n",
    "Вопросы:\n",
    "\n",
    "Выгодна ли игра игроку?\n",
    "Сколько в среднем приобретает или теряет игрок за одну игру?\n",
    "**Дополнительное задание повышенной сложности. **\n",
    "\n",
    "Теоретически рассчитать средний выигрыш (проигрыш) и сравнить с результатами моделирования\n",
    "\n",
    "– любая цифра"
   ]
  },
  {
   "cell_type": "code",
   "execution_count": 2,
   "metadata": {},
   "outputs": [],
   "source": [
    "import numpy as np"
   ]
  },
  {
   "cell_type": "code",
   "execution_count": 8,
   "metadata": {},
   "outputs": [
    {
     "name": "stdout",
     "output_type": "stream",
     "text": [
      "Не выгодна. Проигрыш: -1980861 руб. c 10000000 руб.\n"
     ]
    }
   ],
   "source": [
    "kol_p = 10000000  # Кол-во попыток\n",
    "result = 0        # Кол-во результатов\n",
    "results_list = []\n",
    "\n",
    "for i in range(kol_p):\n",
    "    random_score = np.random.randint(0, 1000)    # Случайное число 0-999\n",
    "    if random_score == 999:\n",
    "        results_list.append(100)\n",
    "    elif random_score == 777:\n",
    "        results_list.append(200)\n",
    "    elif random_score == 555:\n",
    "        results_list.append(50)\n",
    "    elif random_score == 333:\n",
    "        results_list.append(15)\n",
    "    elif random_score == 111:\n",
    "        results_list.append(10)\n",
    "    elif random_score % 100 == 77:\n",
    "        results_list.append(5)\n",
    "    elif random_score % 10 == 7:\n",
    "        results_list.append(3)    \n",
    "    elif random_score % 100 == 0:\n",
    "        results_list.append(2)\n",
    "    elif random_score % 10 == 0:\n",
    "        results_list.append(1)\n",
    "    else:\n",
    "        None\n",
    "        result += 1\n",
    "\n",
    "itog = sum(results_list) - kol_p\n",
    "if itog > 0:\n",
    "    print('Выгодна. Выигрыш:', itog, 'руб. c', kol_p, 'руб.')\n",
    "else:\n",
    "    print('Не выгодна. Проигрыш:', itog, 'руб. c', kol_p, 'руб.')"
   ]
  },
  {
   "cell_type": "code",
   "execution_count": null,
   "metadata": {},
   "outputs": [],
   "source": []
  },
  {
   "cell_type": "code",
   "execution_count": 11,
   "metadata": {},
   "outputs": [
    {
     "name": "stdout",
     "output_type": "stream",
     "text": [
      "В среднем не выгодна. Средний проигрыш: -2099 руб. c 10000 руб.\n"
     ]
    }
   ],
   "source": [
    "total_games = 100 # Кол-во игр\n",
    "itog = 0          # Кол-во прибыли от игры\n",
    "itog_list = []\n",
    "\n",
    "for x in range(total_games):\n",
    "    kol_p = 10000    # Кол-во попыток\n",
    "    result = 0       # Кол-во результатов\n",
    "    results_list = []\n",
    "    for i in range(kol_p):\n",
    "        random_score = np.random.randint(0, 1000)    # Случайное число 0-999\n",
    "        if random_score == 999:\n",
    "            results_list.append(100)\n",
    "        elif random_score == 777:\n",
    "            results_list.append(200)\n",
    "        elif random_score == 555:\n",
    "            results_list.append(50)\n",
    "        elif random_score == 333:\n",
    "            results_list.append(15)\n",
    "        elif random_score == 111:\n",
    "            results_list.append(10)\n",
    "        elif random_score % 100 == 77:\n",
    "            results_list.append(5)\n",
    "        elif random_score % 10 == 7:\n",
    "            results_list.append(3)        \n",
    "        elif random_score % 100 == 0:\n",
    "            results_list.append(2)\n",
    "        elif random_score % 10 == 0:\n",
    "            results_list.append(1)\n",
    "        else:\n",
    "            results_list.append(0)\n",
    "            result += 1\n",
    "    itog = sum(results_list) - kol_p\n",
    "    itog_list.append(itog)\n",
    "    itog += 1\n",
    "sred_itog = round(sum(itog_list) / total_games)\n",
    "if sred_itog > 0:\n",
    "    print('В среднем выгодна. Средний выигрыш:', sred_itog, 'руб. c', kol_p, 'руб.')\n",
    "else:\n",
    "    print('В среднем не выгодна. Средний проигрыш:', sred_itog, 'руб. c', kol_p, 'руб.')"
   ]
  },
  {
   "cell_type": "code",
   "execution_count": null,
   "metadata": {},
   "outputs": [],
   "source": []
  },
  {
   "cell_type": "code",
   "execution_count": 3,
   "metadata": {},
   "outputs": [
    {
     "data": {
      "text/plain": [
       "0.7999999999999999"
      ]
     },
     "execution_count": 3,
     "metadata": {},
     "output_type": "execute_result"
    }
   ],
   "source": [
    "res = 0.001*(200 + 100 + 50 + 15 + 10) + (9/1000)*5 + (10/1000)*2 + ((99-9)/1000)*3 + ((100-10)/1000)*1\n",
    "res"
   ]
  },
  {
   "cell_type": "code",
   "execution_count": null,
   "metadata": {},
   "outputs": [],
   "source": []
  },
  {
   "cell_type": "code",
   "execution_count": null,
   "metadata": {},
   "outputs": [],
   "source": []
  },
  {
   "cell_type": "code",
   "execution_count": null,
   "metadata": {},
   "outputs": [],
   "source": []
  },
  {
   "cell_type": "code",
   "execution_count": null,
   "metadata": {},
   "outputs": [],
   "source": []
  },
  {
   "cell_type": "code",
   "execution_count": null,
   "metadata": {},
   "outputs": [],
   "source": []
  },
  {
   "cell_type": "code",
   "execution_count": null,
   "metadata": {},
   "outputs": [],
   "source": []
  },
  {
   "cell_type": "code",
   "execution_count": null,
   "metadata": {},
   "outputs": [],
   "source": []
  },
  {
   "cell_type": "code",
   "execution_count": null,
   "metadata": {},
   "outputs": [],
   "source": []
  },
  {
   "cell_type": "code",
   "execution_count": null,
   "metadata": {},
   "outputs": [],
   "source": []
  },
  {
   "cell_type": "code",
   "execution_count": null,
   "metadata": {},
   "outputs": [],
   "source": []
  },
  {
   "cell_type": "code",
   "execution_count": null,
   "metadata": {},
   "outputs": [],
   "source": []
  }
 ],
 "metadata": {
  "kernelspec": {
   "display_name": "Python 3",
   "language": "python",
   "name": "python3"
  },
  "language_info": {
   "codemirror_mode": {
    "name": "ipython",
    "version": 3
   },
   "file_extension": ".py",
   "mimetype": "text/x-python",
   "name": "python",
   "nbconvert_exporter": "python",
   "pygments_lexer": "ipython3",
   "version": "3.8.5"
  }
 },
 "nbformat": 4,
 "nbformat_minor": 4
}
